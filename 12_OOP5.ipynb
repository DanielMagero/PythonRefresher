{
 "cells": [
  {
   "cell_type": "code",
   "execution_count": 1,
   "metadata": {},
   "outputs": [],
   "source": [
    "class Item:\n",
    "  ##class atttribute\n",
    "  pay_rate  = 0.8 ##pay after 20% discount\n",
    "  ##creating list of instances\n",
    "  all  = []\n",
    "\n",
    "  def __init__(self, name : str, price: float, quantity = 0): ##called automatically when the instance is created\n",
    "    ## Run validations to received arguments\n",
    "    assert price >= 0, f\"Price {price} is not greater than or equal zero!\"\n",
    "    assert quantity >= 0, f\"Quantity {quantity} is not greater than or equal to zero!\"\n",
    "\n",
    "    ## Assign to self object\n",
    "    self.name = name\n",
    "    self.price = price\n",
    "    self.quantity = quantity\n",
    "\n",
    "    ##Actions to execute\n",
    "    Item.all.append(self)\n",
    "\n",
    "\n",
    "  ##methods are functions insode the class\n",
    "  def calculate_total_price(self):\n",
    "    return self.price * self.quantity\n",
    "  \n",
    "  def apply_discount(self):\n",
    "    self.price  = self.price * self.pay_rate ## self instead of Item to allow instance level assignment\n"
   ]
  },
  {
   "cell_type": "code",
   "execution_count": 2,
   "metadata": {},
   "outputs": [],
   "source": [
    "item1 = Item(\"Phone\", 500000, 5)\n",
    "item2 = Item(\"Laptop\", 15000000, 3)\n",
    "item3 = Item(\"Table\", 50000, 10)\n",
    "item4 = Item(\"Mouse\", 25000, 7)\n",
    "item5 = Item(\"Keyboard\", 20000, 6)\n"
   ]
  },
  {
   "cell_type": "code",
   "execution_count": 3,
   "metadata": {},
   "outputs": [
    {
     "name": "stdout",
     "output_type": "stream",
     "text": [
      "[<__main__.Item object at 0x000002DD90784AD0>, <__main__.Item object at 0x000002DD9059B750>, <__main__.Item object at 0x000002DD9059B9D0>, <__main__.Item object at 0x000002DD906F3360>, <__main__.Item object at 0x000002DD906F3230>]\n"
     ]
    }
   ],
   "source": [
    "print(Item.all)"
   ]
  },
  {
   "cell_type": "code",
   "execution_count": 4,
   "metadata": {},
   "outputs": [
    {
     "name": "stdout",
     "output_type": "stream",
     "text": [
      "Phone\n",
      "Laptop\n",
      "Table\n",
      "Mouse\n",
      "Keyboard\n"
     ]
    }
   ],
   "source": [
    "for instance in Item.all:\n",
    "  print(instance.name)"
   ]
  }
 ],
 "metadata": {
  "kernelspec": {
   "display_name": "Python 3",
   "language": "python",
   "name": "python3"
  },
  "language_info": {
   "codemirror_mode": {
    "name": "ipython",
    "version": 3
   },
   "file_extension": ".py",
   "mimetype": "text/x-python",
   "name": "python",
   "nbconvert_exporter": "python",
   "pygments_lexer": "ipython3",
   "version": "3.13.0"
  }
 },
 "nbformat": 4,
 "nbformat_minor": 2
}
