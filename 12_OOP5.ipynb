{
 "cells": [
  {
   "cell_type": "code",
   "execution_count": null,
   "metadata": {},
   "outputs": [],
   "source": [
    "class Item:\n",
    "  ##class atttribute\n",
    "  pay_rate  = 0.8 ##pay after 20% discount\n",
    "\n",
    "  def __init__(self, name : str, price: float, quantity = 0): ##called automatically when the instance is created\n",
    "    ## Run validations to received arguments\n",
    "    assert price >= 0, f\"Price {price} is not greater than or equal zero!\"\n",
    "    assert quantity >= 0, f\"Quantity {quantity} is not greater than or equal to zero!\"\n",
    "\n",
    "    ## Assign to self object\n",
    "    self.name = name\n",
    "    self.price = price\n",
    "    self.quantity = quantity\n",
    "\n",
    "  ##methods are functions insode the class\n",
    "  def calculate_total_price(self):\n",
    "    return self.price * self.quantity\n",
    "  \n",
    "  def apply_discount(self):\n",
    "    self.price  = self.price * self.pay_rate ## self instead of Item to allow instance level assignment\n"
   ]
  },
  {
   "cell_type": "code",
   "execution_count": null,
   "metadata": {},
   "outputs": [],
   "source": [
    "item1 = Item(\"Phone\", 500000, 5)\n",
    "item2 = Item(\"Laptop\", 15000000, 3)\n",
    "item3 = Item(\"Table\", 50000, 10)\n",
    "item4 = Item(\"Mouse\", 25000, 7)\n",
    "item5 = Item(\"Keyboard\", 20000, 6)\n"
   ]
  }
 ],
 "metadata": {
  "kernelspec": {
   "display_name": "Python 3",
   "language": "python",
   "name": "python3"
  },
  "language_info": {
   "name": "python",
   "version": "3.13.0"
  }
 },
 "nbformat": 4,
 "nbformat_minor": 2
}
