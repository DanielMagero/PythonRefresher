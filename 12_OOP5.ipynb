{
 "cells": [
  {
   "cell_type": "code",
   "execution_count": 86,
   "metadata": {},
   "outputs": [],
   "source": [
    "import csv"
   ]
  },
  {
   "cell_type": "code",
   "execution_count": 1,
   "metadata": {},
   "outputs": [],
   "source": [
    "class Item:\n",
    "  ##class atttribute\n",
    "  pay_rate  = 0.8 ##pay after 20% discount\n",
    "  ##creating list of instances\n",
    "  all  = []\n",
    "\n",
    "  def __init__(self, name : str, price: float, quantity = 0): ##called automatically when the instance is created\n",
    "    ## Run validations to received arguments\n",
    "    assert price >= 0, f\"Price {price} is not greater than or equal zero!\"\n",
    "    assert quantity >= 0, f\"Quantity {quantity} is not greater than or equal to zero!\"\n",
    "\n",
    "    ## Assign to self object\n",
    "    self.name = name\n",
    "    self.price = price\n",
    "    self.quantity = quantity\n",
    "\n",
    "    ##Actions to execute\n",
    "    Item.all.append(self)\n",
    "\n",
    "\n",
    "  ##methods are functions insode the class\n",
    "  def calculate_total_price(self):\n",
    "    return self.price * self.quantity\n",
    "  \n",
    "  def apply_discount(self):\n",
    "    self.price  = self.price * self.pay_rate ## self instead of Item to allow instance level assignment\n",
    "  \n",
    "  # Reading the data from the csv\n",
    "  @classmethod\n",
    "  def instantiate_from_csv(cls):\n",
    "    with open('shopinfo.csv', 'r') as f:\n",
    "      reader = csv.DictReader(f)\n",
    "      items = list(reader)\n",
    "      \n",
    "    for item in items:\n",
    "      \n",
    "      Item(\n",
    "        name = item.get('name'),\n",
    "        price = float(item.get('price')),\n",
    "        quantity = int(item.get('quantity')),\n",
    "      )\n",
    "  \n",
    "  @staticmethod\n",
    "  def is_integer(num):\n",
    "    ## We will count out the floats that are point zero e.g 5.0 or 10.0\n",
    "    if isinstance(num, float):\n",
    "      ##counts out floats with point zero\n",
    "      return num.is_integer()\n",
    "    elif isinstance(num, int):\n",
    "      return True\n",
    "    else:\n",
    "      return False\n",
    "\n",
    "\n",
    "    \n",
    "\n",
    "  ##changes how the items are represented whhen stored.\n",
    "  def __repr__(self):\n",
    "    return f\"Item('{self.name}', {self.price}, {self.quantity})\"\n",
    "\n",
    "\n"
   ]
  },
  {
   "cell_type": "code",
   "execution_count": null,
   "metadata": {},
   "outputs": [
    {
     "data": {
      "text/plain": [
       "'item1 = Item(\"Phone\", 500000, 5)\\nitem2 = Item(\"Laptop\", 15000000, 3)\\nitem3 = Item(\"Table\", 50000, 10)\\nitem4 = Item(\"Mouse\", 25000, 7)\\nitem5 = Item(\"Keyboard\", 20000, 6)'"
      ]
     },
     "execution_count": 88,
     "metadata": {},
     "output_type": "execute_result"
    }
   ],
   "source": [
    "'''\n",
    "item1 = Item(\"Phone\", 500000, 5)\n",
    "item2 = Item(\"Laptop\", 15000000, 3)\n",
    "item3 = Item(\"Table\", 50000, 10)\n",
    "item4 = Item(\"Mouse\", 25000, 7)\n",
    "item5 = Item(\"Keyboard\", 20000, 6)\n",
    "\n",
    "'''"
   ]
  },
  {
   "cell_type": "code",
   "execution_count": 89,
   "metadata": {},
   "outputs": [],
   "source": [
    "Item.instantiate_from_csv()"
   ]
  },
  {
   "cell_type": "code",
   "execution_count": 90,
   "metadata": {},
   "outputs": [
    {
     "name": "stdout",
     "output_type": "stream",
     "text": [
      "[Item('Phone', 500000.0, 5), Item('Laptop', 15000000.0, 3), Item('Table', 50000.0, 10), Item('Mouse', 25000.0, 7), Item('Keyboard', 20000.0, 6)]\n"
     ]
    }
   ],
   "source": [
    "print(Item.all)"
   ]
  },
  {
   "cell_type": "code",
   "execution_count": 91,
   "metadata": {},
   "outputs": [
    {
     "name": "stdout",
     "output_type": "stream",
     "text": [
      "Phone\n",
      "Laptop\n",
      "Table\n",
      "Mouse\n",
      "Keyboard\n"
     ]
    }
   ],
   "source": [
    "for instance in Item.all:\n",
    "  print(instance.name)"
   ]
  },
  {
   "cell_type": "code",
   "execution_count": 5,
   "metadata": {},
   "outputs": [
    {
     "data": {
      "text/plain": [
       "True"
      ]
     },
     "execution_count": 5,
     "metadata": {},
     "output_type": "execute_result"
    }
   ],
   "source": [
    "Item.is_integer(7.0)"
   ]
  },
  {
   "cell_type": "code",
   "execution_count": 2,
   "metadata": {},
   "outputs": [],
   "source": [
    "##creating phone to inherit\n",
    "class Phone(Item):\n",
    "  pass\n",
    "##instances\n",
    "\n",
    "phone1 = Phone(\"Phone1\", 500, 5)\n",
    "phone1.broken_phones = 1\n",
    "phone2 = Phone(\"Phone2\", 800, 5)\n",
    "phone2.broken_phones = 1"
   ]
  },
  {
   "cell_type": "code",
   "execution_count": 8,
   "metadata": {},
   "outputs": [],
   "source": [
    "class Phone(Item):\n",
    "\n",
    "  all = []\n",
    "\n",
    "  def __init__(self, name : str, price: float, quantity = 0, broken_phones = 0): ##called automatically when the instance is created\n",
    "    ## Run validations to received arguments\n",
    "    assert price >= 0, f\"Price {price} is not greater than or equal zero!\"\n",
    "    assert quantity >= 0, f\"Quantity {quantity} is not greater than or equal to zero!\"\n",
    "    assert broken_phones >= 0, f\"Broken Phones {broken_phones} is not greater than or equal to zero!\"\n",
    "\n",
    "    ## Assign to self object\n",
    "    self.name = name\n",
    "    self.price = price\n",
    "    self.quantity = quantity\n",
    "    self.broken_phones = broken_phones\n",
    "\n",
    "    ##Actions to execute\n",
    "    Phone.all.append(self)\n",
    "\n",
    "\n",
    "##instances\n",
    "\n",
    "phone1 = Phone(\"Phone1\", 500, 5, 1)\n",
    "\n",
    "phone2 = Phone(\"Phone2\", 800, 5, 1)\n"
   ]
  },
  {
   "cell_type": "code",
   "execution_count": 9,
   "metadata": {},
   "outputs": [
    {
     "name": "stdout",
     "output_type": "stream",
     "text": [
      "2500\n"
     ]
    }
   ],
   "source": [
    "print(phone1.calculate_total_price())"
   ]
  },
  {
   "cell_type": "code",
   "execution_count": 13,
   "metadata": {},
   "outputs": [],
   "source": [
    "class Phone(Item):\n",
    "\n",
    "  all = []\n",
    "\n",
    "  def __init__(self, name : str, price: float, quantity = 0, broken_phones = 0): ##called automatically when the instance is created\n",
    "    ##call to super function to access all attributes /methods\n",
    "    super().__init__(\n",
    "      name, price, quantity\n",
    "    )\n",
    "\n",
    "    \n",
    "    ## Run validations to received arguments\n",
    "    assert broken_phones >= 0, f\"Broken Phones {broken_phones} is not greater than or equal to zero!\"\n",
    "\n",
    "    ## Assign to self object\n",
    "    self.broken_phones = broken_phones\n",
    "\n",
    "    ##Actions to execute\n",
    "    Phone.all.append(self)\n",
    "\n",
    "\n",
    "##instances\n",
    "\n",
    "phone4 = Phone(\"Phone3\", 300, 5, 1)\n",
    "\n",
    "phone4 = Phone(\"Phone4\", 900, 5, 1)"
   ]
  },
  {
   "cell_type": "code",
   "execution_count": 14,
   "metadata": {},
   "outputs": [
    {
     "ename": "AttributeError",
     "evalue": "'Phone' object has no attribute 'price'",
     "output_type": "error",
     "traceback": [
      "\u001b[1;31m---------------------------------------------------------------------------\u001b[0m",
      "\u001b[1;31mAttributeError\u001b[0m                            Traceback (most recent call last)",
      "Cell \u001b[1;32mIn[14], line 1\u001b[0m\n\u001b[1;32m----> 1\u001b[0m \u001b[38;5;28mprint\u001b[39m(\u001b[43mphone4\u001b[49m\u001b[38;5;241;43m.\u001b[39;49m\u001b[43mcalculate_total_price\u001b[49m\u001b[43m(\u001b[49m\u001b[43m)\u001b[49m)\n",
      "Cell \u001b[1;32mIn[1], line 23\u001b[0m, in \u001b[0;36mItem.calculate_total_price\u001b[1;34m(self)\u001b[0m\n\u001b[0;32m     22\u001b[0m \u001b[38;5;28;01mdef\u001b[39;00m \u001b[38;5;21mcalculate_total_price\u001b[39m(\u001b[38;5;28mself\u001b[39m):\n\u001b[1;32m---> 23\u001b[0m   \u001b[38;5;28;01mreturn\u001b[39;00m \u001b[38;5;28;43mself\u001b[39;49m\u001b[38;5;241;43m.\u001b[39;49m\u001b[43mprice\u001b[49m \u001b[38;5;241m*\u001b[39m \u001b[38;5;28mself\u001b[39m\u001b[38;5;241m.\u001b[39mquantity\n",
      "\u001b[1;31mAttributeError\u001b[0m: 'Phone' object has no attribute 'price'"
     ]
    }
   ],
   "source": [
    "print(phone4.calculate_total_price())"
   ]
  }
 ],
 "metadata": {
  "kernelspec": {
   "display_name": "Python 3",
   "language": "python",
   "name": "python3"
  },
  "language_info": {
   "codemirror_mode": {
    "name": "ipython",
    "version": 3
   },
   "file_extension": ".py",
   "mimetype": "text/x-python",
   "name": "python",
   "nbconvert_exporter": "python",
   "pygments_lexer": "ipython3",
   "version": "3.13.0"
  }
 },
 "nbformat": 4,
 "nbformat_minor": 2
}
